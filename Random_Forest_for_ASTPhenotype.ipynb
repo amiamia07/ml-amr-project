{
  "nbformat": 4,
  "nbformat_minor": 0,
  "metadata": {
    "colab": {
      "provenance": [],
      "authorship_tag": "ABX9TyNnpW2ddYs6DTiThYqZ0Nw1"
    },
    "kernelspec": {
      "name": "python3",
      "display_name": "Python 3"
    },
    "language_info": {
      "name": "python"
    }
  },
  "cells": [
    {
      "cell_type": "code",
      "source": [
        "#RANDOM FOREST MODEL CREATION\n",
        "\n",
        "import pandas as pd\n",
        "import numpy as np\n",
        "from sklearn.model_selection import train_test_split\n",
        "from sklearn.ensemble import RandomForestClassifier\n",
        "from sklearn.metrics import accuracy_score, precision_score, recall_score, confusion_matrix,\n",
        "classification_report\n",
        "# Load dataset\n",
        "data = pd.read_csv('/content/bin_converted_summary.csv')\n",
        "data.fillna(data.mean(), inplace=True)\n",
        "# See the data types and unique values in columns\n",
        "print(data.dtypes)\n",
        "for col in data.columns:\n",
        "print(f'{col}: {data[col].unique()}')\n",
        "categorical_cols = data.select_dtypes(include=['integer']).columns\n",
        "data = pd.get_dummies(data, columns=categorical_cols.drop('ASTPhenotype'),\n",
        "drop_first=True)\n",
        "# Define features and target variable\n",
        "X = data.drop('ASTPhenotype', axis=1) # Features\n",
        "y = data['ASTPhenotype'] # Target variable\n",
        "# Split the data into training and testing sets\n",
        "X_train, X_test, y_train, y_test = train_test_split(X, y, test_size=0.5, random_state=42,\n",
        "stratify=y)\n",
        "# Initialize RF model\n",
        "rf_model = RandomForestClassifier(n_estimators=100, random_state=42)\n",
        "# Train model\n",
        "rf_model.fit(X_train, y_train)\n",
        "# Make predictions on test data\n",
        "y_pred = rf_model.predict(X_test)\n",
        "# Evaluate model\n",
        "accuracy = accuracy_score(y_test, y_pred)\n",
        "precision = precision_score(y_test, y_pred)\n",
        "recall = recall_score(y_test, y_pred)\n",
        "conf_matrix = confusion_matrix(y_test, y_pred)\n",
        "class_report = classification_report(y_test, y_pred)\n",
        "# Print the evaluation metrics\n",
        "print(f'Accuracy: {accuracy}')\n",
        "print(f'Precision: {precision}')\n",
        "print(f'Recall: {recall}')\n",
        "print('Confusion Matrix:')\n",
        "print(conf_matrix)\n",
        "print('Classification Report:')\n",
        "print(class_report)\n",
        "# Output important features\n",
        "importance = rf_model.feature_importances_\n",
        "feature_importance = pd.Series(importance, index=X.columns).sort_values(ascending=False)\n",
        "\n",
        "print('Feature Importances:')\n",
        "print(feature_importance)"
      ],
      "metadata": {
        "id": "4f1w6m5O9wMM"
      },
      "execution_count": null,
      "outputs": []
    }
  ]
}